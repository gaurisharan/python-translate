{
 "cells": [
  {
   "cell_type": "code",
   "execution_count": 1,
   "id": "a1e64649",
   "metadata": {
    "scrolled": true
   },
   "outputs": [
    {
     "name": "stdout",
     "output_type": "stream",
     "text": [
      "Collecting googletrans==3.1.0a0\n",
      "  Downloading googletrans-3.1.0a0.tar.gz (19 kB)\n",
      "  Preparing metadata (setup.py): started\n",
      "  Preparing metadata (setup.py): finished with status 'done'\n",
      "Requirement already satisfied: httpx==0.13.3 in c:\\users\\gauri\\appdata\\local\\anaconda3\\lib\\site-packages (from googletrans==3.1.0a0) (0.13.3)\n",
      "Requirement already satisfied: idna==2.* in c:\\users\\gauri\\appdata\\local\\anaconda3\\lib\\site-packages (from httpx==0.13.3->googletrans==3.1.0a0) (2.10)\n",
      "Requirement already satisfied: hstspreload in c:\\users\\gauri\\appdata\\local\\anaconda3\\lib\\site-packages (from httpx==0.13.3->googletrans==3.1.0a0) (2023.1.1)\n",
      "Requirement already satisfied: sniffio in c:\\users\\gauri\\appdata\\local\\anaconda3\\lib\\site-packages (from httpx==0.13.3->googletrans==3.1.0a0) (1.2.0)\n",
      "Requirement already satisfied: chardet==3.* in c:\\users\\gauri\\appdata\\local\\anaconda3\\lib\\site-packages (from httpx==0.13.3->googletrans==3.1.0a0) (3.0.4)\n",
      "Requirement already satisfied: httpcore==0.9.* in c:\\users\\gauri\\appdata\\local\\anaconda3\\lib\\site-packages (from httpx==0.13.3->googletrans==3.1.0a0) (0.9.1)\n",
      "Requirement already satisfied: certifi in c:\\users\\gauri\\appdata\\local\\anaconda3\\lib\\site-packages (from httpx==0.13.3->googletrans==3.1.0a0) (2023.5.7)\n",
      "Requirement already satisfied: rfc3986<2,>=1.3 in c:\\users\\gauri\\appdata\\local\\anaconda3\\lib\\site-packages (from httpx==0.13.3->googletrans==3.1.0a0) (1.5.0)\n",
      "Requirement already satisfied: h11<0.10,>=0.8 in c:\\users\\gauri\\appdata\\local\\anaconda3\\lib\\site-packages (from httpcore==0.9.*->httpx==0.13.3->googletrans==3.1.0a0) (0.9.0)\n",
      "Requirement already satisfied: h2==3.* in c:\\users\\gauri\\appdata\\local\\anaconda3\\lib\\site-packages (from httpcore==0.9.*->httpx==0.13.3->googletrans==3.1.0a0) (3.2.0)\n",
      "Requirement already satisfied: hyperframe<6,>=5.2.0 in c:\\users\\gauri\\appdata\\local\\anaconda3\\lib\\site-packages (from h2==3.*->httpcore==0.9.*->httpx==0.13.3->googletrans==3.1.0a0) (5.2.0)\n",
      "Requirement already satisfied: hpack<4,>=3.0 in c:\\users\\gauri\\appdata\\local\\anaconda3\\lib\\site-packages (from h2==3.*->httpcore==0.9.*->httpx==0.13.3->googletrans==3.1.0a0) (3.0.0)\n",
      "Building wheels for collected packages: googletrans\n",
      "  Building wheel for googletrans (setup.py): started\n",
      "  Building wheel for googletrans (setup.py): finished with status 'done'\n",
      "  Created wheel for googletrans: filename=googletrans-3.1.0a0-py3-none-any.whl size=16415 sha256=1e518e1150c6e7b4cc6a83aada0e4d2c31fde7decad7cdeb4b888083ec7fc9b9\n",
      "  Stored in directory: c:\\users\\gauri\\appdata\\local\\pip\\cache\\wheels\\9e\\34\\61\\bca066e1d3fd568936bcaabf6a769eadbbbf8449ee8f1fc18b\n",
      "Successfully built googletrans\n",
      "Installing collected packages: googletrans\n",
      "  Attempting uninstall: googletrans\n",
      "    Found existing installation: googletrans 3.0.0\n",
      "    Uninstalling googletrans-3.0.0:\n",
      "      Successfully uninstalled googletrans-3.0.0\n",
      "Successfully installed googletrans-3.1.0a0\n",
      "Note: you may need to restart the kernel to use updated packages.\n"
     ]
    }
   ],
   "source": [
    "pip install googletrans==3.1.0a0"
   ]
  },
  {
   "cell_type": "code",
   "execution_count": 2,
   "id": "aeedbe88",
   "metadata": {},
   "outputs": [],
   "source": [
    "from googletrans import Translator, constants\n",
    "from pprint import pprint"
   ]
  },
  {
   "cell_type": "code",
   "execution_count": 3,
   "id": "65b3ed81",
   "metadata": {},
   "outputs": [],
   "source": [
    "# init the Google API translator\n",
    "translator = Translator()"
   ]
  },
  {
   "cell_type": "code",
   "execution_count": 4,
   "id": "2f0c190c",
   "metadata": {},
   "outputs": [
    {
     "name": "stdout",
     "output_type": "stream",
     "text": [
      "Hola Mundo (es) --> Hello World (en)\n"
     ]
    }
   ],
   "source": [
    "# translate a spanish text to english text (by default)\n",
    "translation = translator.translate(\"Hola Mundo\")\n",
    "print(f\"{translation.origin} ({translation.src}) --> {translation.text} ({translation.dest})\")"
   ]
  },
  {
   "cell_type": "code",
   "execution_count": 5,
   "id": "2ecc3a9f",
   "metadata": {},
   "outputs": [
    {
     "name": "stdout",
     "output_type": "stream",
     "text": [
      "Hola Mundo (es) --> مرحبا بالعالم (ar)\n"
     ]
    }
   ],
   "source": [
    "# translate a spanish text to arabic for instance\n",
    "translation = translator.translate(\"Hola Mundo\", dest=\"ar\")\n",
    "print(f\"{translation.origin} ({translation.src}) --> {translation.text} ({translation.dest})\")"
   ]
  },
  {
   "cell_type": "code",
   "execution_count": 6,
   "id": "7a96151f",
   "metadata": {},
   "outputs": [
    {
     "name": "stdout",
     "output_type": "stream",
     "text": [
      "Wie gehts ? (de) --> How are you ? (en)\n"
     ]
    }
   ],
   "source": [
    "# specify source language\n",
    "translation = translator.translate(\"Wie gehts ?\", src=\"de\")\n",
    "print(f\"{translation.origin} ({translation.src}) --> {translation.text} ({translation.dest})\")"
   ]
  },
  {
   "cell_type": "code",
   "execution_count": 7,
   "id": "fe91225a",
   "metadata": {},
   "outputs": [
    {
     "name": "stdout",
     "output_type": "stream",
     "text": [
      "{'all-translations': [['interjection',\n",
      "                       ['How are you doing?', \"What's up?\"],\n",
      "                       [['How are you doing?', [\"Wie geht's?\"]],\n",
      "                        [\"What's up?\", [\"Wie geht's?\"]]],\n",
      "                       \"Wie geht's?\",\n",
      "                       9]],\n",
      " 'confidence': 1,\n",
      " 'definitions': None,\n",
      " 'examples': None,\n",
      " 'language': [['de'], None, [1], ['de']],\n",
      " 'original-language': 'de',\n",
      " 'possible-mistakes': None,\n",
      " 'possible-translations': [['Wie gehts ?',\n",
      "                            None,\n",
      "                            [['How are you ?', 1000, True, False, [10]],\n",
      "                             [\"How's it going ?\", 1000, True, False, [10]],\n",
      "                             ['How are you?', 0, True, False, [3], None, [[3]]],\n",
      "                             ['how are you', 0, True, False, [8]]],\n",
      "                            [[0, 11]],\n",
      "                            'Wie gehts ?',\n",
      "                            0,\n",
      "                            0]],\n",
      " 'see-also': None,\n",
      " 'synonyms': None,\n",
      " 'translation': [['How are you ?', 'Wie gehts ?', None, None, 10]]}\n"
     ]
    }
   ],
   "source": [
    "# print all translations and other data\n",
    "pprint(translation.extra_data)"
   ]
  },
  {
   "cell_type": "code",
   "execution_count": 8,
   "id": "b248e62f",
   "metadata": {},
   "outputs": [
    {
     "name": "stdout",
     "output_type": "stream",
     "text": [
      "Hello everyone (en) --> Herkese merhaba (tr)\n",
      "How are you ? (en) --> Nasılsın ? (tr)\n",
      "Do you speak english ? (en) --> İngilizce biliyor musunuz ? (tr)\n",
      "Good bye! (en) --> Güle güle! (tr)\n"
     ]
    }
   ],
   "source": [
    "# translate more than a phrase\n",
    "sentences = [\n",
    "    \"Hello everyone\",\n",
    "    \"How are you ?\",\n",
    "    \"Do you speak english ?\",\n",
    "    \"Good bye!\"\n",
    "]\n",
    "translations = translator.translate(sentences, dest=\"tr\")\n",
    "for translation in translations:\n",
    "    print(f\"{translation.origin} ({translation.src}) --> {translation.text} ({translation.dest})\")"
   ]
  },
  {
   "cell_type": "code",
   "execution_count": 9,
   "id": "cca29ac7",
   "metadata": {},
   "outputs": [
    {
     "name": "stdout",
     "output_type": "stream",
     "text": [
      "Language code: hi\n",
      "Confidence: 1\n"
     ]
    }
   ],
   "source": [
    "# detect a language\n",
    "detection = translator.detect(\"नमस्ते दुनिया\")\n",
    "print(\"Language code:\", detection.lang)\n",
    "print(\"Confidence:\", detection.confidence)"
   ]
  },
  {
   "cell_type": "code",
   "execution_count": 10,
   "id": "0014147e",
   "metadata": {},
   "outputs": [
    {
     "name": "stdout",
     "output_type": "stream",
     "text": [
      "Language: hindi\n"
     ]
    }
   ],
   "source": [
    "print(\"Language:\", constants.LANGUAGES[detection.lang])"
   ]
  },
  {
   "cell_type": "code",
   "execution_count": 11,
   "id": "4adff6f9",
   "metadata": {},
   "outputs": [
    {
     "name": "stdout",
     "output_type": "stream",
     "text": [
      "Total supported languages: 107\n",
      "Languages:\n",
      "{'af': 'afrikaans',\n",
      " 'am': 'amharic',\n",
      " 'ar': 'arabic',\n",
      " 'az': 'azerbaijani',\n",
      " 'be': 'belarusian',\n",
      " 'bg': 'bulgarian',\n",
      " 'bn': 'bengali',\n",
      " 'bs': 'bosnian',\n",
      " 'ca': 'catalan',\n",
      " 'ceb': 'cebuano',\n",
      " 'co': 'corsican',\n",
      " 'cs': 'czech',\n",
      " 'cy': 'welsh',\n",
      " 'da': 'danish',\n",
      " 'de': 'german',\n",
      " 'el': 'greek',\n",
      " 'en': 'english',\n",
      " 'eo': 'esperanto',\n",
      " 'es': 'spanish',\n",
      " 'et': 'estonian',\n",
      " 'eu': 'basque',\n",
      " 'fa': 'persian',\n",
      " 'fi': 'finnish',\n",
      " 'fr': 'french',\n",
      " 'fy': 'frisian',\n",
      " 'ga': 'irish',\n",
      " 'gd': 'scots gaelic',\n",
      " 'gl': 'galician',\n",
      " 'gu': 'gujarati',\n",
      " 'ha': 'hausa',\n",
      " 'haw': 'hawaiian',\n",
      " 'he': 'hebrew',\n",
      " 'hi': 'hindi',\n",
      " 'hmn': 'hmong',\n",
      " 'hr': 'croatian',\n",
      " 'ht': 'haitian creole',\n",
      " 'hu': 'hungarian',\n",
      " 'hy': 'armenian',\n",
      " 'id': 'indonesian',\n",
      " 'ig': 'igbo',\n",
      " 'is': 'icelandic',\n",
      " 'it': 'italian',\n",
      " 'iw': 'hebrew',\n",
      " 'ja': 'japanese',\n",
      " 'jw': 'javanese',\n",
      " 'ka': 'georgian',\n",
      " 'kk': 'kazakh',\n",
      " 'km': 'khmer',\n",
      " 'kn': 'kannada',\n",
      " 'ko': 'korean',\n",
      " 'ku': 'kurdish (kurmanji)',\n",
      " 'ky': 'kyrgyz',\n",
      " 'la': 'latin',\n",
      " 'lb': 'luxembourgish',\n",
      " 'lo': 'lao',\n",
      " 'lt': 'lithuanian',\n",
      " 'lv': 'latvian',\n",
      " 'mg': 'malagasy',\n",
      " 'mi': 'maori',\n",
      " 'mk': 'macedonian',\n",
      " 'ml': 'malayalam',\n",
      " 'mn': 'mongolian',\n",
      " 'mr': 'marathi',\n",
      " 'ms': 'malay',\n",
      " 'mt': 'maltese',\n",
      " 'my': 'myanmar (burmese)',\n",
      " 'ne': 'nepali',\n",
      " 'nl': 'dutch',\n",
      " 'no': 'norwegian',\n",
      " 'ny': 'chichewa',\n",
      " 'or': 'odia',\n",
      " 'pa': 'punjabi',\n",
      " 'pl': 'polish',\n",
      " 'ps': 'pashto',\n",
      " 'pt': 'portuguese',\n",
      " 'ro': 'romanian',\n",
      " 'ru': 'russian',\n",
      " 'sd': 'sindhi',\n",
      " 'si': 'sinhala',\n",
      " 'sk': 'slovak',\n",
      " 'sl': 'slovenian',\n",
      " 'sm': 'samoan',\n",
      " 'sn': 'shona',\n",
      " 'so': 'somali',\n",
      " 'sq': 'albanian',\n",
      " 'sr': 'serbian',\n",
      " 'st': 'sesotho',\n",
      " 'su': 'sundanese',\n",
      " 'sv': 'swedish',\n",
      " 'sw': 'swahili',\n",
      " 'ta': 'tamil',\n",
      " 'te': 'telugu',\n",
      " 'tg': 'tajik',\n",
      " 'th': 'thai',\n",
      " 'tl': 'filipino',\n",
      " 'tr': 'turkish',\n",
      " 'ug': 'uyghur',\n",
      " 'uk': 'ukrainian',\n",
      " 'ur': 'urdu',\n",
      " 'uz': 'uzbek',\n",
      " 'vi': 'vietnamese',\n",
      " 'xh': 'xhosa',\n",
      " 'yi': 'yiddish',\n",
      " 'yo': 'yoruba',\n",
      " 'zh-cn': 'chinese (simplified)',\n",
      " 'zh-tw': 'chinese (traditional)',\n",
      " 'zu': 'zulu'}\n"
     ]
    }
   ],
   "source": [
    "# print all available languages\n",
    "print(\"Total supported languages:\", len(constants.LANGUAGES))\n",
    "print(\"Languages:\")\n",
    "pprint(constants.LANGUAGES)"
   ]
  },
  {
   "cell_type": "code",
   "execution_count": null,
   "id": "18f42cb1",
   "metadata": {},
   "outputs": [],
   "source": []
  }
 ],
 "metadata": {
  "kernelspec": {
   "display_name": "Python 3 (ipykernel)",
   "language": "python",
   "name": "python3"
  },
  "language_info": {
   "codemirror_mode": {
    "name": "ipython",
    "version": 3
   },
   "file_extension": ".py",
   "mimetype": "text/x-python",
   "name": "python",
   "nbconvert_exporter": "python",
   "pygments_lexer": "ipython3",
   "version": "3.10.9"
  }
 },
 "nbformat": 4,
 "nbformat_minor": 5
}
